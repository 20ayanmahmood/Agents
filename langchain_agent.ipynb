{
 "cells": [
  {
   "cell_type": "code",
   "execution_count": null,
   "metadata": {},
   "outputs": [],
   "source": [
    "import os\n",
    "os.environ['GOOGLE_API_KEY']=\"\""
   ]
  },
  {
   "cell_type": "code",
   "execution_count": 18,
   "metadata": {},
   "outputs": [],
   "source": [
    "from dotenv import load_dotenv\n",
    "from langchain import hub\n",
    "from langchain.agents import (\n",
    "    AgentExecutor,\n",
    "    create_react_agent,\n",
    ")\n",
    "from langchain_core.tools import Tool\n",
    "from langchain_google_genai import ChatGoogleGenerativeAI"
   ]
  },
  {
   "cell_type": "code",
   "execution_count": 19,
   "metadata": {},
   "outputs": [],
   "source": [
    "# Define a very simple tool function that returns the current time\n",
    "def get_current_time(*args, **kwargs):\n",
    "    \"\"\"Returns the current time in H:MM AM/PM format.\"\"\"\n",
    "    import datetime  # Import datetime module to get current time\n",
    "\n",
    "    now = datetime.datetime.now()  # Get current time\n",
    "    return now.strftime(\"%I:%M %p\")  # Format time in H:MM AM/PM format\n",
    "\n"
   ]
  },
  {
   "cell_type": "code",
   "execution_count": 20,
   "metadata": {},
   "outputs": [],
   "source": [
    "\n",
    "# List of tools available to the agent\n",
    "tools = [\n",
    "    Tool(\n",
    "        name=\"Time\",  # Name of the tool\n",
    "        func=get_current_time,  # Function that the tool will execute\n",
    "        # Description of the tool\n",
    "        description=\"Useful for when you need to know the current time\",\n",
    "    ),\n",
    "]"
   ]
  },
  {
   "cell_type": "code",
   "execution_count": 21,
   "metadata": {},
   "outputs": [
    {
     "data": {
      "text/plain": [
       "[Tool(name='Time', description='Useful for when you need to know the current time', func=<function get_current_time at 0x000002B2396B6980>)]"
      ]
     },
     "execution_count": 21,
     "metadata": {},
     "output_type": "execute_result"
    }
   ],
   "source": [
    "tools"
   ]
  },
  {
   "cell_type": "code",
   "execution_count": 22,
   "metadata": {},
   "outputs": [
    {
     "name": "stderr",
     "output_type": "stream",
     "text": [
      "c:\\Users\\Admin\\anaconda3\\Lib\\site-packages\\langsmith\\client.py:256: LangSmithMissingAPIKeyWarning: API key must be provided when using hosted LangSmith API\n",
      "  warnings.warn(\n"
     ]
    },
    {
     "data": {
      "text/plain": [
       "PromptTemplate(input_variables=['agent_scratchpad', 'input', 'tool_names', 'tools'], input_types={}, partial_variables={}, metadata={'lc_hub_owner': 'hwchase17', 'lc_hub_repo': 'react', 'lc_hub_commit_hash': 'd15fe3c426f1c4b3f37c9198853e4a86e20c425ca7f4752ec0c9b0e97ca7ea4d'}, template='Answer the following questions as best you can. You have access to the following tools:\\n\\n{tools}\\n\\nUse the following format:\\n\\nQuestion: the input question you must answer\\nThought: you should always think about what to do\\nAction: the action to take, should be one of [{tool_names}]\\nAction Input: the input to the action\\nObservation: the result of the action\\n... (this Thought/Action/Action Input/Observation can repeat N times)\\nThought: I now know the final answer\\nFinal Answer: the final answer to the original input question\\n\\nBegin!\\n\\nQuestion: {input}\\nThought:{agent_scratchpad}')"
      ]
     },
     "execution_count": 22,
     "metadata": {},
     "output_type": "execute_result"
    }
   ],
   "source": [
    "# Pull the prompt template from the hub\n",
    "# ReAct = Reason and Action\n",
    "# https://smith.langchain.com/hub/hwchase17/react\n",
    "prompt = hub.pull(\"hwchase17/react\")\n",
    "prompt\n"
   ]
  },
  {
   "cell_type": "code",
   "execution_count": 25,
   "metadata": {},
   "outputs": [],
   "source": [
    "\n",
    "# Initialize a ChatOpenAI model\n",
    "llm = ChatGoogleGenerativeAI(\n",
    "    model=\"gemini-1.5-flash\", temperature=0\n",
    ")\n"
   ]
  },
  {
   "cell_type": "code",
   "execution_count": 26,
   "metadata": {},
   "outputs": [
    {
     "data": {
      "text/plain": [
       "AIMessage(content='Hi there! How can I help you today?\\n', additional_kwargs={}, response_metadata={'prompt_feedback': {'block_reason': 0, 'safety_ratings': []}, 'finish_reason': 'STOP', 'safety_ratings': []}, id='run-80a9f317-8775-4968-a393-eb3bfa8eaefe-0', usage_metadata={'input_tokens': 1, 'output_tokens': 11, 'total_tokens': 12, 'input_token_details': {'cache_read': 0}})"
      ]
     },
     "execution_count": 26,
     "metadata": {},
     "output_type": "execute_result"
    }
   ],
   "source": [
    "llm.invoke(\"Hi\")"
   ]
  },
  {
   "cell_type": "code",
   "execution_count": 27,
   "metadata": {},
   "outputs": [],
   "source": [
    "\n",
    "# Create the ReAct agent using the create_react_agent function\n",
    "agent = create_react_agent(\n",
    "    llm=llm,\n",
    "    tools=tools,\n",
    "    prompt=prompt,\n",
    "    stop_sequence=True,\n",
    ")\n"
   ]
  },
  {
   "cell_type": "code",
   "execution_count": 28,
   "metadata": {},
   "outputs": [],
   "source": [
    "\n",
    "# Create an agent executor from the agent and tools\n",
    "agent_executor = AgentExecutor.from_agent_and_tools(\n",
    "    agent=agent,\n",
    "    tools=tools,\n",
    "    verbose=True,\n",
    ")"
   ]
  },
  {
   "cell_type": "code",
   "execution_count": 29,
   "metadata": {},
   "outputs": [
    {
     "name": "stdout",
     "output_type": "stream",
     "text": [
      "\n",
      "\n",
      "\u001b[1m> Entering new AgentExecutor chain...\u001b[0m\n",
      "\u001b[32;1m\u001b[1;3mThought: I need to get the current time.  I can use the Time function for this.\n",
      "Action: Time\n",
      "Action Input: ()\u001b[0m\u001b[36;1m\u001b[1;3m01:08 PM\u001b[0m\u001b[32;1m\u001b[1;3mQuestion: What time is it?\n",
      "Thought: I need to get the current time.  I can use the Time function for this.\n",
      "Action: Time\n",
      "Action Input: ()\u001b[0m\u001b[36;1m\u001b[1;3m01:08 PM\u001b[0m\u001b[32;1m\u001b[1;3mQuestion: What time is it?\n",
      "Thought: I need to get the current time.  I can use the Time function for this.\n",
      "Action: Time\n",
      "Action Input: ()\u001b[0m\u001b[36;1m\u001b[1;3m01:08 PM\u001b[0m\u001b[32;1m\u001b[1;3mQuestion: What time is it?\n",
      "Thought: I need to get the current time.  I can use the Time function for this.\n",
      "Action: Time\n",
      "Action Input: ()\u001b[0m\u001b[36;1m\u001b[1;3m01:08 PM\u001b[0m\u001b[32;1m\u001b[1;3mQuestion: What time is it?\n",
      "Thought: I need to get the current time.  I can use the Time function for this.\n",
      "Action: Time\n",
      "Action Input: ()\u001b[0m\u001b[36;1m\u001b[1;3m01:08 PM\u001b[0m\u001b[32;1m\u001b[1;3mQuestion: What time is it?\n",
      "Thought: I need to get the current time.  I can use the Time function for this.\n",
      "Action: Time\n",
      "Action Input: ()\u001b[0m\u001b[36;1m\u001b[1;3m01:08 PM\u001b[0m\u001b[32;1m\u001b[1;3mQuestion: What time is it?\n",
      "Thought: I need to get the current time.  I can use the Time function for this.\n",
      "Action: Time\n",
      "Action Input: ()\u001b[0m\u001b[36;1m\u001b[1;3m01:08 PM\u001b[0m\u001b[32;1m\u001b[1;3mQuestion: What time is it?\n",
      "Thought: I need to get the current time.  I can use the Time function for this.\n",
      "Action: Time\n",
      "Action Input: ()\u001b[0m\u001b[36;1m\u001b[1;3m01:08 PM\u001b[0m\u001b[32;1m\u001b[1;3mQuestion: What time is it?\n",
      "Thought: I need to get the current time.  I can use the Time function for this.\n",
      "Action: Time\n",
      "Action Input: ()\u001b[0m\u001b[36;1m\u001b[1;3m01:08 PM\u001b[0m\u001b[32;1m\u001b[1;3mQuestion: What time is it?\n",
      "Thought: I need to get the current time. I can use the Time function for this.\n",
      "Action: Time\n",
      "Action Input: ()\u001b[0m\u001b[36;1m\u001b[1;3m01:08 PM\u001b[0m\u001b[32;1m\u001b[1;3mThought: I now know the final answer.\n",
      "Final Answer: 01:08 PM\n",
      "\u001b[0m\n",
      "\n",
      "\u001b[1m> Finished chain.\u001b[0m\n",
      "response: {'input': 'What time is it?', 'output': '01:08 PM'}\n"
     ]
    }
   ],
   "source": [
    "\n",
    "\n",
    "# Run the agent with a test query\n",
    "response = agent_executor.invoke({\"input\": \"What time is it?\"})\n",
    "\n",
    "# Print the response from the agent\n",
    "print(\"response:\", response)"
   ]
  },
  {
   "cell_type": "markdown",
   "metadata": {},
   "source": [
    "https://medium.com/@mehulpratapsingh/langchain-agents-for-noobs-a-complete-practical-guide-e231b6c71a4a"
   ]
  },
  {
   "cell_type": "code",
   "execution_count": 35,
   "metadata": {},
   "outputs": [],
   "source": [
    "from langchain.agents import load_tools\n",
    "from langchain.agents import initialize_agent\n",
    "from langchain.agents import AgentType\n",
    "from langchain.llms import OpenAI\n",
    "from langchain.chains import LLMChain\n",
    "from langchain.prompts import PromptTemplate"
   ]
  },
  {
   "cell_type": "code",
   "execution_count": 44,
   "metadata": {},
   "outputs": [
    {
     "name": "stdout",
     "output_type": "stream",
     "text": [
      "\n",
      "\n",
      "\u001b[1m> Entering new AgentExecutor chain...\u001b[0m\n",
      "\u001b[32;1m\u001b[1;3m```tool_code\n",
      "Thought: Do I need to use a tool? Yes\n",
      "Action: Calculator\n",
      "Action Input: 2024 - 1956\u001b[0m\n",
      "Observation: \u001b[33;1m\u001b[1;3m68\u001b[0m\n",
      "Thought:\u001b[32;1m\u001b[1;3mDo I need to use a tool? No\n",
      "AI: Artificial intelligence (AI) is a broad field encompassing the development of computer systems capable of performing tasks that typically require human intelligence.  These tasks include learning, reasoning, problem-solving, perception, and natural language understanding.  The field has seen significant advancements since its inception, leading to applications in various sectors, from self-driving cars and medical diagnosis to personalized recommendations and language translation.  The term \"artificial intelligence\" was first coined in 1956, and it's been 68 years since then.\n",
      "\u001b[0m\n",
      "\n",
      "\u001b[1m> Finished chain.\u001b[0m\n",
      "Artificial intelligence (AI) is a broad field encompassing the development of computer systems capable of performing tasks that typically require human intelligence.  These tasks include learning, reasoning, problem-solving, perception, and natural language understanding.  The field has seen significant advancements since its inception, leading to applications in various sectors, from self-driving cars and medical diagnosis to personalized recommendations and language translation.  The term \"artificial intelligence\" was first coined in 1956, and it's been 68 years since then.\n"
     ]
    }
   ],
   "source": [
    "from langchain.agents import Tool\n",
    "from langchain.memory import ConversationBufferMemory\n",
    "\n",
    "class ResearchAgent:\n",
    "    def __init__(self, llm):\n",
    "        self.llm = llm\n",
    "        self.memory = ConversationBufferMemory(memory_key=\"chat_history\")\n",
    "        \n",
    "        # Define tools\n",
    "        self.tools = [\n",
    "            Tool(\n",
    "                name=\"Wikipedia\",\n",
    "                func=self.search_wikipedia,\n",
    "                description=\"Useful for searching Wikipedia articles\"\n",
    "            ),\n",
    "            Tool(\n",
    "                name=\"Calculator\",\n",
    "                func=self.calculate,\n",
    "                description=\"Useful for performing mathematical calculations\"\n",
    "            )\n",
    "        ]\n",
    "        \n",
    "        # Initialize agent\n",
    "        self.agent = initialize_agent(\n",
    "            self.tools,\n",
    "            self.llm,\n",
    "            agent=AgentType.CONVERSATIONAL_REACT_DESCRIPTION,\n",
    "            memory=self.memory,\n",
    "            verbose=True\n",
    "        )\n",
    "    \n",
    "    def search_wikipedia(self, query):\n",
    "        from langchain.tools import WikipediaQueryRun\n",
    "        wikipedia = WikipediaQueryRun(api_wrapper=Wikipedia())\n",
    "        return wikipedia.run(query)\n",
    "    \n",
    "    def calculate(self, expression):\n",
    "        return eval(expression)\n",
    "    \n",
    "    def run(self, query):\n",
    "        return self.agent.run(query)\n",
    "\n",
    "# Usage example\n",
    "research_agent = ResearchAgent(ChatGoogleGenerativeAI(model=\"gemini-1.5-flash\",temperature=0))\n",
    "result = research_agent.run(\"Tell me about artificial intelligence and calculate how many years since it was first coined as a term in 1956.\")\n",
    "print(result)"
   ]
  },
  {
   "cell_type": "code",
   "execution_count": 38,
   "metadata": {},
   "outputs": [],
   "source": [
    "class MathExpert:\n",
    "    def __init__(self,llm):\n",
    "        self.llm=llm\n",
    "        self.templates={\n",
    "            \"greeting\":PromptTemplate(\n",
    "                input_variables=[\"customername\"],\n",
    "                template=\"\"\"Hello {customername}! I am AM Co-pilot.\n",
    "                AMA refers Ayan Mahmood Agent \"\"\"\n",
    "            ),\n",
    "            \"solving\":PromptTemplate(\n",
    "                input_variables=[\"input\"],\n",
    "                template=\"\"\"You are a world class mathematican you can solve any the expression given in the input:{input}\"\"\"\n",
    "            )\n",
    "        }\n",
    "        self.chains={\n",
    "            name: LLMChain(llm=self.llm,prompt=prompt)\n",
    "            for name, prompt in self.templates.items()\n",
    "        }\n",
    "    def greet_customer(self, customer_name):\n",
    "        return self.chains[\"greeting\"].run(customer_name=customer_name)\n",
    "    \n",
    "    def handle_problem(self,input):\n",
    "        return self.chains[\"solving\"].run(\n",
    "            input=input\n",
    "        )"
   ]
  },
  {
   "cell_type": "code",
   "execution_count": 39,
   "metadata": {},
   "outputs": [
    {
     "name": "stderr",
     "output_type": "stream",
     "text": [
      "C:\\Users\\Admin\\AppData\\Local\\Temp\\ipykernel_73720\\1932682392.py:16: LangChainDeprecationWarning: The class `LLMChain` was deprecated in LangChain 0.1.17 and will be removed in 1.0. Use :meth:`~RunnableSequence, e.g., `prompt | llm`` instead.\n",
      "  name: LLMChain(llm=self.llm,prompt=prompt)\n"
     ]
    }
   ],
   "source": [
    "ai=MathExpert(ChatGoogleGenerativeAI(model=\"gemini-1.5-flash\",temperature=0))\n"
   ]
  },
  {
   "cell_type": "code",
   "execution_count": 42,
   "metadata": {},
   "outputs": [],
   "source": [
    "response=ai.handle_problem(\"Hi\")"
   ]
  },
  {
   "cell_type": "code",
   "execution_count": 43,
   "metadata": {},
   "outputs": [
    {
     "data": {
      "text/plain": [
       "\"Please provide the mathematical expression you would like me to solve.  I'm ready!\\n\""
      ]
     },
     "execution_count": 43,
     "metadata": {},
     "output_type": "execute_result"
    }
   ],
   "source": [
    "response"
   ]
  },
  {
   "cell_type": "code",
   "execution_count": null,
   "metadata": {},
   "outputs": [],
   "source": []
  }
 ],
 "metadata": {
  "kernelspec": {
   "display_name": "Python 3",
   "language": "python",
   "name": "python3"
  },
  "language_info": {
   "codemirror_mode": {
    "name": "ipython",
    "version": 3
   },
   "file_extension": ".py",
   "mimetype": "text/x-python",
   "name": "python",
   "nbconvert_exporter": "python",
   "pygments_lexer": "ipython3",
   "version": "3.9.2"
  }
 },
 "nbformat": 4,
 "nbformat_minor": 2
}
